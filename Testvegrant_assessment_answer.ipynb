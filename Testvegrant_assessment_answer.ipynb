{
 "cells": [
  {
   "cell_type": "code",
   "execution_count": 5,
   "id": "76b6847d",
   "metadata": {},
   "outputs": [
    {
     "name": "stdout",
     "output_type": "stream",
     "text": [
      "max_gst product is  Cigarette\n",
      "total  6031.5\n"
     ]
    }
   ],
   "source": [
    "from collections import defaultdict\n",
    "class basket:\n",
    "    def __init__(self):\n",
    "        self.d = defaultdict(list)\n",
    "    def additem(self,arr):\n",
    "        self.d[arr[0]] = arr[1:]\n",
    "    def removeitem(self,arr):\n",
    "        self.d[arr[0]].clear()\n",
    "    def printitems(self):\n",
    "        return self.d\n",
    "d = basket()\n",
    "d.additem([\"Leather wallet\",1100,18,1])\n",
    "d.additem([\"Umbrella\",900,12,4])\n",
    "d.additem([\"Cigarette\",200,28,3])\n",
    "d.additem([\"Honey\",100,0,2])\n",
    "items = d.printitems()\n",
    "max_gst = 0\n",
    "for item,val in items.items():\n",
    "    if max_gst<val[1]:\n",
    "        product = item\n",
    "print(\"max_gst product is \",product)\n",
    "total = 0\n",
    "for val in items.values():\n",
    "    price = (val[0]*val[2])*(1+(val[1]/100))\n",
    "    if val[0]>=500:\n",
    "        price = price*0.95\n",
    "    total+=price\n",
    "print(\"total \",total)"
   ]
  },
  {
   "cell_type": "code",
   "execution_count": null,
   "id": "475d34d2",
   "metadata": {},
   "outputs": [],
   "source": []
  }
 ],
 "metadata": {
  "kernelspec": {
   "display_name": "Python 3 (ipykernel)",
   "language": "python",
   "name": "python3"
  },
  "language_info": {
   "codemirror_mode": {
    "name": "ipython",
    "version": 3
   },
   "file_extension": ".py",
   "mimetype": "text/x-python",
   "name": "python",
   "nbconvert_exporter": "python",
   "pygments_lexer": "ipython3",
   "version": "3.9.7"
  }
 },
 "nbformat": 4,
 "nbformat_minor": 5
}
